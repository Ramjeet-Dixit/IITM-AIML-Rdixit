{
  "cells": [
    {
      "cell_type": "markdown",
      "metadata": {
        "id": "view-in-github",
        "colab_type": "text"
      },
      "source": [
        "<a href=\"https://colab.research.google.com/github/Ramjeet-Dixit/IITM-AIML-Rdixit/blob/main/Regularization_in_Regression.ipynb\" target=\"_parent\"><img src=\"https://colab.research.google.com/assets/colab-badge.svg\" alt=\"Open In Colab\"/></a>"
      ]
    },
    {
      "cell_type": "markdown",
      "id": "d6c1e0c7-1df7-41e5-922e-b72a65689b87",
      "metadata": {
        "id": "d6c1e0c7-1df7-41e5-922e-b72a65689b87"
      },
      "source": [
        "# Title: Regularization in Regression - Polynomial Model with Ridge and Lasso\n",
        "## Dataset: housingdata.csv\n",
        "----"
      ]
    },
    {
      "cell_type": "markdown",
      "id": "b565db44-aff3-41e7-8230-ebb1d951ba3e",
      "metadata": {
        "id": "b565db44-aff3-41e7-8230-ebb1d951ba3e"
      },
      "source": [
        "### Step 1: Import Required Libraries"
      ]
    },
    {
      "cell_type": "code",
      "execution_count": null,
      "id": "afc19f83-a520-48fa-991a-752bc3cdbbe1",
      "metadata": {
        "id": "afc19f83-a520-48fa-991a-752bc3cdbbe1"
      },
      "outputs": [],
      "source": [
        "import pandas as pd\n",
        "import numpy as np\n",
        "import matplotlib.pyplot as plt\n",
        "from sklearn.linear_model import Ridge, Lasso\n",
        "from sklearn.preprocessing import PolynomialFeatures\n",
        "from sklearn.pipeline import make_pipeline\n",
        "from sklearn.model_selection import train_test_split\n",
        "from sklearn.metrics import mean_squared_error, r2_score"
      ]
    },
    {
      "cell_type": "markdown",
      "id": "fc08266e-a098-4ef7-bcca-7c7ff04f0dbd",
      "metadata": {
        "id": "fc08266e-a098-4ef7-bcca-7c7ff04f0dbd"
      },
      "source": [
        "## Step 2: Load Dataset\n",
        "\n"
      ]
    },
    {
      "cell_type": "code",
      "execution_count": null,
      "id": "e0d65dec-4815-4816-a5e2-b152be766f21",
      "metadata": {
        "id": "e0d65dec-4815-4816-a5e2-b152be766f21",
        "outputId": "ee4d1abd-aed8-4756-929a-4d4ade7c1eee"
      },
      "outputs": [
        {
          "data": {
            "text/html": [
              "<div>\n",
              "<style scoped>\n",
              "    .dataframe tbody tr th:only-of-type {\n",
              "        vertical-align: middle;\n",
              "    }\n",
              "\n",
              "    .dataframe tbody tr th {\n",
              "        vertical-align: top;\n",
              "    }\n",
              "\n",
              "    .dataframe thead th {\n",
              "        text-align: right;\n",
              "    }\n",
              "</style>\n",
              "<table border=\"1\" class=\"dataframe\">\n",
              "  <thead>\n",
              "    <tr style=\"text-align: right;\">\n",
              "      <th></th>\n",
              "      <th>CRIM</th>\n",
              "      <th>ZN</th>\n",
              "      <th>INDUS</th>\n",
              "      <th>NOX</th>\n",
              "      <th>RM</th>\n",
              "      <th>AGE</th>\n",
              "      <th>DIS</th>\n",
              "      <th>RAD</th>\n",
              "      <th>TAX</th>\n",
              "      <th>PTRATIO</th>\n",
              "      <th>LSTAT</th>\n",
              "      <th>HOUSEPRICE</th>\n",
              "    </tr>\n",
              "  </thead>\n",
              "  <tbody>\n",
              "    <tr>\n",
              "      <th>0</th>\n",
              "      <td>0.00632</td>\n",
              "      <td>18.0</td>\n",
              "      <td>2.31</td>\n",
              "      <td>0.538</td>\n",
              "      <td>6.575</td>\n",
              "      <td>65.2</td>\n",
              "      <td>4.0900</td>\n",
              "      <td>1</td>\n",
              "      <td>296</td>\n",
              "      <td>15.3</td>\n",
              "      <td>4.98</td>\n",
              "      <td>24.0</td>\n",
              "    </tr>\n",
              "    <tr>\n",
              "      <th>1</th>\n",
              "      <td>0.02731</td>\n",
              "      <td>0.0</td>\n",
              "      <td>7.07</td>\n",
              "      <td>0.469</td>\n",
              "      <td>6.421</td>\n",
              "      <td>78.9</td>\n",
              "      <td>4.9671</td>\n",
              "      <td>2</td>\n",
              "      <td>242</td>\n",
              "      <td>17.8</td>\n",
              "      <td>9.14</td>\n",
              "      <td>21.6</td>\n",
              "    </tr>\n",
              "    <tr>\n",
              "      <th>2</th>\n",
              "      <td>0.02729</td>\n",
              "      <td>0.0</td>\n",
              "      <td>7.07</td>\n",
              "      <td>0.469</td>\n",
              "      <td>7.185</td>\n",
              "      <td>61.1</td>\n",
              "      <td>4.9671</td>\n",
              "      <td>2</td>\n",
              "      <td>242</td>\n",
              "      <td>17.8</td>\n",
              "      <td>4.03</td>\n",
              "      <td>34.7</td>\n",
              "    </tr>\n",
              "    <tr>\n",
              "      <th>3</th>\n",
              "      <td>0.03237</td>\n",
              "      <td>0.0</td>\n",
              "      <td>2.18</td>\n",
              "      <td>0.458</td>\n",
              "      <td>6.998</td>\n",
              "      <td>45.8</td>\n",
              "      <td>6.0622</td>\n",
              "      <td>3</td>\n",
              "      <td>222</td>\n",
              "      <td>18.7</td>\n",
              "      <td>2.94</td>\n",
              "      <td>33.4</td>\n",
              "    </tr>\n",
              "    <tr>\n",
              "      <th>4</th>\n",
              "      <td>0.06905</td>\n",
              "      <td>0.0</td>\n",
              "      <td>2.18</td>\n",
              "      <td>0.458</td>\n",
              "      <td>7.147</td>\n",
              "      <td>54.2</td>\n",
              "      <td>6.0622</td>\n",
              "      <td>3</td>\n",
              "      <td>222</td>\n",
              "      <td>18.7</td>\n",
              "      <td>5.33</td>\n",
              "      <td>36.2</td>\n",
              "    </tr>\n",
              "  </tbody>\n",
              "</table>\n",
              "</div>"
            ],
            "text/plain": [
              "      CRIM    ZN  INDUS    NOX     RM   AGE     DIS  RAD  TAX  PTRATIO  LSTAT  \\\n",
              "0  0.00632  18.0   2.31  0.538  6.575  65.2  4.0900    1  296     15.3   4.98   \n",
              "1  0.02731   0.0   7.07  0.469  6.421  78.9  4.9671    2  242     17.8   9.14   \n",
              "2  0.02729   0.0   7.07  0.469  7.185  61.1  4.9671    2  242     17.8   4.03   \n",
              "3  0.03237   0.0   2.18  0.458  6.998  45.8  6.0622    3  222     18.7   2.94   \n",
              "4  0.06905   0.0   2.18  0.458  7.147  54.2  6.0622    3  222     18.7   5.33   \n",
              "\n",
              "   HOUSEPRICE  \n",
              "0        24.0  \n",
              "1        21.6  \n",
              "2        34.7  \n",
              "3        33.4  \n",
              "4        36.2  "
            ]
          },
          "execution_count": 3,
          "metadata": {},
          "output_type": "execute_result"
        }
      ],
      "source": [
        "# Make sure 'housingdata.csv' is in your working directory\n",
        "df = pd.read_csv('housingdata.csv')\n",
        "\n",
        "df.head()"
      ]
    },
    {
      "cell_type": "markdown",
      "id": "ee6252cf-ca1f-4258-95cc-4040ac01cc6f",
      "metadata": {
        "id": "ee6252cf-ca1f-4258-95cc-4040ac01cc6f"
      },
      "source": [
        "### Step 3: Problem Statement\n",
        "\n",
        "#### Goal: Predict 'HOUSEPRICE' based on one or more input features.\n",
        "#### Assume data has non-linearity; hence we'll use polynomial regression."
      ]
    },
    {
      "cell_type": "code",
      "execution_count": null,
      "id": "07f71141-da90-487f-9d4b-4371e7faca0f",
      "metadata": {
        "id": "07f71141-da90-487f-9d4b-4371e7faca0f"
      },
      "outputs": [],
      "source": [
        "# For simplicity, we'll use a single feature (e.g., 'Area') for visualization\n",
        "X = df.drop(columns=['HOUSEPRICE'])  # Independent variable\n",
        "y = df['HOUSEPRICE']   # Target variable"
      ]
    },
    {
      "cell_type": "markdown",
      "id": "ceaf042b-c33b-4d95-95c6-1d8d43d3c548",
      "metadata": {
        "id": "ceaf042b-c33b-4d95-95c6-1d8d43d3c548"
      },
      "source": [
        "### Step 4: Train-Test Split"
      ]
    },
    {
      "cell_type": "code",
      "execution_count": null,
      "id": "48a91e8d-b896-4324-aaf2-ee0455852a3a",
      "metadata": {
        "id": "48a91e8d-b896-4324-aaf2-ee0455852a3a"
      },
      "outputs": [],
      "source": [
        "X_train, X_test, y_train, y_test = train_test_split(X, y, test_size=0.2, random_state=42)"
      ]
    },
    {
      "cell_type": "markdown",
      "id": "50a1066e-a69f-49e4-85e2-847f04cffa1d",
      "metadata": {
        "id": "50a1066e-a69f-49e4-85e2-847f04cffa1d"
      },
      "source": [
        "### Step 5: Polynomial Regression Model (No Regularization)"
      ]
    },
    {
      "cell_type": "code",
      "execution_count": null,
      "id": "d5467869-f1ac-4915-ba35-3a3ee32274d3",
      "metadata": {
        "id": "d5467869-f1ac-4915-ba35-3a3ee32274d3",
        "outputId": "2f53dacc-5e65-4c2a-a7b3-1c8ed47930a4"
      },
      "outputs": [
        {
          "name": "stdout",
          "output_type": "stream",
          "text": [
            "Polynomial Regression (No Regularization):\n",
            "R² Score Train: 0.9158320920593428\n",
            "R² Score Test: 0.804220579167862\n",
            "RMSE Train: 2.704062250818924\n",
            "RMSE Test: 3.7890956169721584\n"
          ]
        }
      ],
      "source": [
        "poly_degree = 2\n",
        "poly_model = make_pipeline(PolynomialFeatures(degree=poly_degree), Ridge(alpha=0))  # Ridge with alpha=0 behaves like no regularization\n",
        "poly_model.fit(X_train, y_train)\n",
        "y_pred_train = poly_model.predict(X_train)\n",
        "y_pred = poly_model.predict(X_test)\n",
        "\n",
        "print(\"Polynomial Regression (No Regularization):\")\n",
        "print(\"R² Score Train:\", r2_score(y_train, y_pred_train))\n",
        "print(\"R² Score Test:\", r2_score(y_test, y_pred))\n",
        "print(\"RMSE Train:\", np.sqrt(mean_squared_error(y_train, y_pred_train)))\n",
        "print(\"RMSE Test:\", np.sqrt(mean_squared_error(y_test, y_pred)))"
      ]
    },
    {
      "cell_type": "markdown",
      "id": "2cad6915-f75a-4d18-b8d0-232a6c8d3c6b",
      "metadata": {
        "id": "2cad6915-f75a-4d18-b8d0-232a6c8d3c6b"
      },
      "source": [
        "### Step 6: Ridge Regression"
      ]
    },
    {
      "cell_type": "code",
      "execution_count": null,
      "id": "c872cc16-9ab0-4b38-9f02-6f54e930ab6f",
      "metadata": {
        "id": "c872cc16-9ab0-4b38-9f02-6f54e930ab6f",
        "outputId": "b46737e4-a221-467a-f897-50b6810ba7cf"
      },
      "outputs": [
        {
          "name": "stdout",
          "output_type": "stream",
          "text": [
            "Polynomial Regression (Ridge Regularization):\n",
            "R² Score Train: 0.8934817997028436\n",
            "R² Score Test: 0.8380987357102179\n",
            "RMSE Train: 3.041972818743574\n",
            "RMSE Test: 3.445697637461683\n"
          ]
        }
      ],
      "source": [
        "ridge_model = make_pipeline(PolynomialFeatures(degree=poly_degree), Ridge(alpha=1000))\n",
        "ridge_model.fit(X_train, y_train)\n",
        "ridge_pred = ridge_model.predict(X_test)\n",
        "y_pred_train = ridge_model.predict(X_train)\n",
        "y_pred = ridge_model.predict(X_test)\n",
        "print(\"Polynomial Regression (Ridge Regularization):\")\n",
        "print(\"R² Score Train:\", r2_score(y_train, y_pred_train))\n",
        "print(\"R² Score Test:\", r2_score(y_test, y_pred))\n",
        "print(\"RMSE Train:\", np.sqrt(mean_squared_error(y_train, y_pred_train)))\n",
        "print(\"RMSE Test:\", np.sqrt(mean_squared_error(y_test, y_pred)))"
      ]
    },
    {
      "cell_type": "markdown",
      "id": "1f5737dc-e20d-44c7-9313-fc56e55e43b1",
      "metadata": {
        "id": "1f5737dc-e20d-44c7-9313-fc56e55e43b1"
      },
      "source": [
        "### Step 7: Lasso Regression"
      ]
    },
    {
      "cell_type": "code",
      "execution_count": null,
      "id": "6d4ce75b-7818-4486-bb5c-97ca87a6bc0e",
      "metadata": {
        "id": "6d4ce75b-7818-4486-bb5c-97ca87a6bc0e",
        "outputId": "2665bbda-2f12-481b-c3fe-4e554c6072d6"
      },
      "outputs": [
        {
          "name": "stdout",
          "output_type": "stream",
          "text": [
            "Polynomial Regression (Ridge Regularization):\n",
            "R² Score Train: 0.795654141609424\n",
            "R² Score Test: 0.7911168772641533\n",
            "RMSE Train: 4.213338376816757\n",
            "RMSE Test: 3.913845887175645\n"
          ]
        }
      ],
      "source": [
        "lasso_model = make_pipeline(PolynomialFeatures(degree=poly_degree), Lasso(alpha=10, max_iter=10000))\n",
        "lasso_model.fit(X_train, y_train)\n",
        "lasso_pred = lasso_model.predict(X_test)\n",
        "y_pred_train = lasso_model.predict(X_train)\n",
        "y_pred = lasso_model.predict(X_test)\n",
        "print(\"Polynomial Regression (Ridge Regularization):\")\n",
        "print(\"R² Score Train:\", r2_score(y_train, y_pred_train))\n",
        "print(\"R² Score Test:\", r2_score(y_test, y_pred))\n",
        "print(\"RMSE Train:\", np.sqrt(mean_squared_error(y_train, y_pred_train)))\n",
        "print(\"RMSE Test:\", np.sqrt(mean_squared_error(y_test, y_pred)))"
      ]
    },
    {
      "cell_type": "markdown",
      "id": "1f0c5ae0-fca5-411c-97db-f665ee90dbb2",
      "metadata": {
        "id": "1f0c5ae0-fca5-411c-97db-f665ee90dbb2"
      },
      "source": [
        "### Actual vs Predicted Visualization"
      ]
    },
    {
      "cell_type": "code",
      "execution_count": null,
      "id": "807cdc92-c0ac-4d54-9086-6487026700b4",
      "metadata": {
        "id": "807cdc92-c0ac-4d54-9086-6487026700b4",
        "outputId": "b47ac9f5-e4e7-4bf7-a380-30315f120cf6"
      },
      "outputs": [
        {
          "data": {
            "image/png": "[encoded data removed]",
            "text/plain": [
              "<Figure size 800x600 with 1 Axes>"
            ]
          },
          "metadata": {},
          "output_type": "display_data"
        }
      ],
      "source": [
        "# Generate Actual vs Predicted plot for Test Set\n",
        "plt.figure(figsize=(8, 6))\n",
        "plt.scatter(y_test, y_pred, color='blue', edgecolor='k', alpha=0.7)\n",
        "plt.plot([y_test.min(), y_test.max()], [y_test.min(), y_test.max()],\n",
        "         color='red', linestyle='--', label='Ideal Fit (y = ŷ)')\n",
        "plt.xlabel(\"Actual Prices\")\n",
        "plt.ylabel(\"Predicted Prices\")\n",
        "plt.title(\"Actual vs Predicted Prices (Lasso - Test Set)\")\n",
        "plt.legend()\n",
        "plt.grid(True)\n",
        "plt.tight_layout()\n",
        "plt.savefig(\"Actual Vs Predicted.png\")"
      ]
    }
  ],
  "metadata": {
    "kernelspec": {
      "display_name": "Python 3 (ipykernel)",
      "language": "python",
      "name": "python3"
    },
    "language_info": {
      "codemirror_mode": {
        "name": "ipython",
        "version": 3
      },
      "file_extension": ".py",
      "mimetype": "text/x-python",
      "name": "python",
      "nbconvert_exporter": "python",
      "pygments_lexer": "ipython3",
      "version": "3.10.16"
    },
    "colab": {
      "provenance": [],
      "include_colab_link": true
    }
  },
  "nbformat": 4,
  "nbformat_minor": 5
}